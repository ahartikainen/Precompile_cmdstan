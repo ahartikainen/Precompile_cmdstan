{
 "cells": [
  {
   "cell_type": "code",
   "execution_count": 1,
   "metadata": {},
   "outputs": [],
   "source": [
    "import cmdstanpy"
   ]
  },
  {
   "cell_type": "code",
   "execution_count": 2,
   "metadata": {},
   "outputs": [],
   "source": [
    "cmdstanpy.utils.validate_cmdstan_path(\"../cmdstan/cmdstan-2.19.0/\")"
   ]
  },
  {
   "cell_type": "code",
   "execution_count": 3,
   "metadata": {},
   "outputs": [],
   "source": [
    "cmdstanpy.set_cmdstan_path(\"../cmdstan/cmdstan-2.19.0/\")"
   ]
  },
  {
   "cell_type": "code",
   "execution_count": 4,
   "metadata": {},
   "outputs": [
    {
     "name": "stdout",
     "output_type": "stream",
     "text": [
      "translating to C:/Users/username/CmdStanPy_precompile_example/bernoulli.hpp\n",
      "stan to c++: make args ['../cmdstan/cmdstan-2.19.0/bin/stanc.exe', '--o=C:/Users/username/CmdStanPy_precompile_example/bernoulli.hpp', 'bernoulli.stan']\n",
      "compiling c++: make args ['make', 'O=1', 'C:/Users/username/CmdStanPy_precompile_example/bernoulli.exe']\n"
     ]
    }
   ],
   "source": [
    "model = cmdstanpy.compile_model(\"./bernoulli.stan\", overwrite=True)"
   ]
  },
  {
   "cell_type": "markdown",
   "metadata": {},
   "source": [
    "# Just to make sure everything works, run sample"
   ]
  },
  {
   "cell_type": "code",
   "execution_count": 5,
   "metadata": {},
   "outputs": [
    {
     "name": "stdout",
     "output_type": "stream",
     "text": [
      "start chain 1.  \n",
      "finish chain 1.  \n",
      "start chain 2.  \n",
      "finish chain 2.  \n",
      "start chain 3.  \n",
      "finish chain 3.  \n",
      "start chain 4.  \n",
      "finish chain 4.  \n"
     ]
    }
   ],
   "source": [
    "fit = cmdstanpy.sample(model, data=\"bernoulli.data.json\")"
   ]
  },
  {
   "cell_type": "code",
   "execution_count": 6,
   "metadata": {},
   "outputs": [
    {
     "data": {
      "text/plain": [
       "RunSet(args=<cmdstanpy.lib.SamplerArgs object at 0x000001444CF66E10>, chains=4\n",
       " csv_files=C:\\Users\\username\\AppData\\Local\\Temp\\tmp5cfpagec\\stan-bernoulli-draws-1-kztl4rb2.csv\n",
       "\tC:\\Users\\username\\AppData\\Local\\Temp\\tmp5cfpagec\\stan-bernoulli-draws-2-xv_acg28.csv\n",
       "\tC:\\Users\\username\\AppData\\Local\\Temp\\tmp5cfpagec\\stan-bernoulli-draws-3-z7o588mi.csv\n",
       "\tC:\\Users\\username\\AppData\\Local\\Temp\\tmp5cfpagec\\stan-bernoulli-draws-4-at3fa6gr.csv\n",
       "console_files=C:\\Users\\username\\AppData\\Local\\Temp\\tmp5cfpagec\\stan-bernoulli-draws-1-kztl4rb2.txt\n",
       "\tC:\\Users\\username\\AppData\\Local\\Temp\\tmp5cfpagec\\stan-bernoulli-draws-2-xv_acg28.txt\n",
       "\tC:\\Users\\username\\AppData\\Local\\Temp\\tmp5cfpagec\\stan-bernoulli-draws-3-z7o588mi.txt\n",
       "\tC:\\Users\\username\\AppData\\Local\\Temp\\tmp5cfpagec\\stan-bernoulli-draws-4-at3fa6gr.txt)"
      ]
     },
     "execution_count": 6,
     "metadata": {},
     "output_type": "execute_result"
    }
   ],
   "source": [
    "fit"
   ]
  },
  {
   "cell_type": "code",
   "execution_count": 7,
   "metadata": {},
   "outputs": [
    {
     "data": {
      "text/plain": [
       "['C:\\\\Users\\\\username\\\\AppData\\\\Local\\\\Temp\\\\tmp5cfpagec\\\\stan-bernoulli-draws-1-kztl4rb2.csv',\n",
       " 'C:\\\\Users\\\\username\\\\AppData\\\\Local\\\\Temp\\\\tmp5cfpagec\\\\stan-bernoulli-draws-2-xv_acg28.csv',\n",
       " 'C:\\\\Users\\\\username\\\\AppData\\\\Local\\\\Temp\\\\tmp5cfpagec\\\\stan-bernoulli-draws-3-z7o588mi.csv',\n",
       " 'C:\\\\Users\\\\username\\\\AppData\\\\Local\\\\Temp\\\\tmp5cfpagec\\\\stan-bernoulli-draws-4-at3fa6gr.csv']"
      ]
     },
     "execution_count": 7,
     "metadata": {},
     "output_type": "execute_result"
    }
   ],
   "source": [
    "fit.csv_files"
   ]
  },
  {
   "cell_type": "code",
   "execution_count": 8,
   "metadata": {},
   "outputs": [
    {
     "data": {
      "text/html": [
       "<div>\n",
       "<style scoped>\n",
       "    .dataframe tbody tr th:only-of-type {\n",
       "        vertical-align: middle;\n",
       "    }\n",
       "\n",
       "    .dataframe tbody tr th {\n",
       "        vertical-align: top;\n",
       "    }\n",
       "\n",
       "    .dataframe thead th {\n",
       "        text-align: right;\n",
       "    }\n",
       "</style>\n",
       "<table border=\"1\" class=\"dataframe\">\n",
       "  <thead>\n",
       "    <tr style=\"text-align: right;\">\n",
       "      <th></th>\n",
       "      <th>Mean</th>\n",
       "      <th>MCSE</th>\n",
       "      <th>StdDev</th>\n",
       "      <th>5%</th>\n",
       "      <th>50%</th>\n",
       "      <th>95%</th>\n",
       "      <th>N_Eff</th>\n",
       "      <th>N_Eff/s</th>\n",
       "      <th>R_hat</th>\n",
       "    </tr>\n",
       "    <tr>\n",
       "      <th>name</th>\n",
       "      <th></th>\n",
       "      <th></th>\n",
       "      <th></th>\n",
       "      <th></th>\n",
       "      <th></th>\n",
       "      <th></th>\n",
       "      <th></th>\n",
       "      <th></th>\n",
       "      <th></th>\n",
       "    </tr>\n",
       "  </thead>\n",
       "  <tbody>\n",
       "    <tr>\n",
       "      <th>lp__</th>\n",
       "      <td>-7.251810</td>\n",
       "      <td>0.017858</td>\n",
       "      <td>0.738982</td>\n",
       "      <td>-8.704600</td>\n",
       "      <td>-6.964160</td>\n",
       "      <td>-6.750020</td>\n",
       "      <td>1712.35</td>\n",
       "      <td>15288.8</td>\n",
       "      <td>1.00235</td>\n",
       "    </tr>\n",
       "    <tr>\n",
       "      <th>theta</th>\n",
       "      <td>0.250494</td>\n",
       "      <td>0.002996</td>\n",
       "      <td>0.117828</td>\n",
       "      <td>0.082246</td>\n",
       "      <td>0.235641</td>\n",
       "      <td>0.466891</td>\n",
       "      <td>1547.11</td>\n",
       "      <td>13813.5</td>\n",
       "      <td>1.00195</td>\n",
       "    </tr>\n",
       "  </tbody>\n",
       "</table>\n",
       "</div>"
      ],
      "text/plain": [
       "           Mean      MCSE    StdDev        5%       50%       95%    N_Eff  \\\n",
       "name                                                                         \n",
       "lp__  -7.251810  0.017858  0.738982 -8.704600 -6.964160 -6.750020  1712.35   \n",
       "theta  0.250494  0.002996  0.117828  0.082246  0.235641  0.466891  1547.11   \n",
       "\n",
       "       N_Eff/s    R_hat  \n",
       "name                     \n",
       "lp__   15288.8  1.00235  \n",
       "theta  13813.5  1.00195  "
      ]
     },
     "execution_count": 8,
     "metadata": {},
     "output_type": "execute_result"
    }
   ],
   "source": [
    "cmdstanpy.summary(fit)"
   ]
  }
 ],
 "metadata": {
  "kernelspec": {
   "display_name": "Python 3",
   "language": "python",
   "name": "python3"
  },
  "language_info": {
   "codemirror_mode": {
    "name": "ipython",
    "version": 3
   },
   "file_extension": ".py",
   "mimetype": "text/x-python",
   "name": "python",
   "nbconvert_exporter": "python",
   "pygments_lexer": "ipython3",
   "version": "3.7.0"
  }
 },
 "nbformat": 4,
 "nbformat_minor": 2
}
